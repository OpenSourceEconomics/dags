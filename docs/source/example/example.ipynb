{
 "cells": [
  {
   "cell_type": "code",
   "execution_count": 2,
   "metadata": {},
   "outputs": [],
   "source": [
    "import dags.tree as dt"
   ]
  },
  {
   "cell_type": "code",
   "execution_count": 3,
   "metadata": {},
   "outputs": [],
   "source": [
    "import linear\n",
    "import parabolic\n",
    "\n",
    "functions = {\n",
    "    \"linear\": {\"f\": linear.f},\n",
    "    \"parabolic\": {\"f\": parabolic.f, \"h\": parabolic.h},\n",
    "}"
   ]
  },
  {
   "cell_type": "code",
   "execution_count": 8,
   "metadata": {},
   "outputs": [
    {
     "data": {
      "text/plain": [
       "{'linear': {'x': None}, 'parabolic': {'x': None}}"
      ]
     },
     "execution_count": 8,
     "metadata": {},
     "output_type": "execute_result"
    }
   ],
   "source": [
    "input_structure = dt.create_input_structure_tree(functions=functions)\n",
    "input_structure"
   ]
  },
  {
   "cell_type": "code",
   "execution_count": 9,
   "metadata": {},
   "outputs": [],
   "source": [
    "combined = dt.concatenate_functions_tree(\n",
    "    functions,\n",
    "    input_structure=input_structure,\n",
    "    targets={\"parabolic\": {\"h\": None}},\n",
    ")"
   ]
  },
  {
   "cell_type": "code",
   "execution_count": 10,
   "metadata": {},
   "outputs": [
    {
     "data": {
      "text/plain": [
       "{'parabolic': {'h': 20.25}}"
      ]
     },
     "execution_count": 10,
     "metadata": {},
     "output_type": "execute_result"
    }
   ],
   "source": [
    "combined(\n",
    "    inputs={\n",
    "        \"linear\": {\"x\": 1},\n",
    "        \"parabolic\": {\"x\": 2},\n",
    "    }\n",
    ")"
   ]
  },
  {
   "cell_type": "code",
   "execution_count": 15,
   "metadata": {},
   "outputs": [
    {
     "data": {
      "text/plain": [
       "{'parabolic': {'h': 110.25}}"
      ]
     },
     "execution_count": 15,
     "metadata": {},
     "output_type": "execute_result"
    }
   ],
   "source": [
    "combined_top_level = dt.concatenate_functions_tree(\n",
    "    functions,\n",
    "    input_structure={\"x\": None},\n",
    "    targets={\"parabolic\": {\"h\": None}},\n",
    ")\n",
    "combined_top_level(inputs={\"x\": 3})"
   ]
  },
  {
   "cell_type": "code",
   "execution_count": null,
   "metadata": {},
   "outputs": [],
   "source": []
  }
 ],
 "metadata": {
  "kernelspec": {
   "display_name": "py310",
   "language": "python",
   "name": "python3"
  },
  "language_info": {
   "codemirror_mode": {
    "name": "ipython",
    "version": 3
   },
   "file_extension": ".py",
   "mimetype": "text/x-python",
   "name": "python",
   "nbconvert_exporter": "python",
   "pygments_lexer": "ipython3",
   "version": "3.10.16"
  }
 },
 "nbformat": 4,
 "nbformat_minor": 2
}
